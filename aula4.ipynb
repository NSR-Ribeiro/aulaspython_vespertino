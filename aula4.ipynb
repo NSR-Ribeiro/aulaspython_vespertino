{
 "cells": [
  {
   "cell_type": "markdown",
   "metadata": {},
   "source": [
    "\n",
    "##### Revisão Aula Python\n",
    "\n",
    "- teste 1   \n",
    "    - teste 2\n",
    "        - teste 3\n"
   ]
  },
  {
   "cell_type": "code",
   "execution_count": 13,
   "metadata": {},
   "outputs": [
    {
     "ename": "NameError",
     "evalue": "name 'n2' is not defined",
     "output_type": "error",
     "traceback": [
      "\u001b[1;31m---------------------------------------------------------------------------\u001b[0m",
      "\u001b[1;31mNameError\u001b[0m                                 Traceback (most recent call last)",
      "Cell \u001b[1;32mIn[13], line 7\u001b[0m\n\u001b[0;32m      4\u001b[0m \u001b[38;5;66;03m# Convertendo as entradas para inteiro\u001b[39;00m\n\u001b[0;32m      6\u001b[0m n1 \u001b[38;5;241m=\u001b[39m \u001b[38;5;28mint\u001b[39m (n1)\n\u001b[1;32m----> 7\u001b[0m n2 \u001b[38;5;241m=\u001b[39m \u001b[38;5;28mint\u001b[39m(\u001b[43mn2\u001b[49m)\n\u001b[0;32m      9\u001b[0m divisao_inteiro \u001b[38;5;241m=\u001b[39m n1 \u001b[38;5;241m/\u001b[39m\u001b[38;5;241m/\u001b[39m n2\n\u001b[0;32m     10\u001b[0m divisao \u001b[38;5;241m=\u001b[39m n1 \u001b[38;5;241m/\u001b[39m n2 \n",
      "\u001b[1;31mNameError\u001b[0m: name 'n2' is not defined"
     ]
    }
   ],
   "source": [
    "n1 = input(\"Digite o primeiro numero: \")\n",
    "n2 = input(\"Digite o sengundo numero: \")\n",
    "\n",
    "# Convertendo as entradas para inteiro\n",
    "\n",
    "n1 = int (n1)\n",
    "n2 = int (n2)\n",
    "\n",
    "divisao_inteiro = n1 // n2\n",
    "divisao = n1 / n2 \n",
    "resto = n1 % n2\n",
    "expo = n1 ** n2\n",
    "\n",
    "\n",
    "print(f'Divisao inteira: {divisao_inteiro}')\n",
    "print(f'divisao normal: {divisao}')\n",
    "print(f'resto')"
   ]
  },
  {
   "cell_type": "markdown",
   "metadata": {},
   "source": [
    "## Atividade\n",
    "\n",
    "- Crie um programa para o Boeltim de notas do aluno. Guarde o nome do aluno, as notas e calcule a média final do aluno.\n",
    "\n",
    "- Diplinas:\n",
    "\n",
    "-   Matemática\n",
    "-   Português\n",
    "-   Geográfia\n",
    "-   História\n",
    "-   Física\n",
    "\n",
    "- Ao obter as notas e a média das notas, imprima o boletim do aluno informando as notas das materias e com quanto ele ficou de média."
   ]
  },
  {
   "cell_type": "code",
   "execution_count": 5,
   "metadata": {},
   "outputs": [
    {
     "name": "stdout",
     "output_type": "stream",
     "text": [
      " Aluno: Natan\n",
      " Nata de Matemática 100.0\n",
      " Nota de Português 100.0\n",
      " Nota de Geográfia 99.0\n",
      " Nota de História 99.0\n",
      " Nota de Física 100.0\n",
      "A média geral do aluno foi: 99.60\n",
      "------------------------------------------------------------\n"
     ]
    }
   ],
   "source": [
    "# Boletim de Notas\n",
    "\n",
    "nome = input('Digite o seu nome')\n",
    "mat = input('Digite a nota de Matemática: ')\n",
    "port = input('Digite a nota de Português: ')\n",
    "geo = input('Digite a nota de Geográfia: ')\n",
    "hist = input('Digite a nota de História: ')\n",
    "fis = input('Digite a nota de Física: ')\n",
    "\n",
    "mat = float(mat)\n",
    "port = float(port)\n",
    "geo = float(geo)\n",
    "hist = float(hist)\n",
    "fis = float(fis)\n",
    "\n",
    "media = (mat + port + geo + hist + fis)/5\n",
    "\n",
    "print(f' Aluno: {nome}')\n",
    "\n",
    "print(f' Nata de Matemática {mat}')\n",
    "print(f' Nota de Português {port}')\n",
    "print(f' Nota de Geográfia {geo}')\n",
    "print(f' Nota de História {hist}')\n",
    "print(f' Nota de Física {fis}')\n",
    "\n",
    "print(f'A média geral do aluno foi: {media:.2f}')\n",
    "print(60*\"-\")\n"
   ]
  }
 ],
 "metadata": {
  "kernelspec": {
   "display_name": ".venv",
   "language": "python",
   "name": "python3"
  },
  "language_info": {
   "codemirror_mode": {
    "name": "ipython",
    "version": 3
   },
   "file_extension": ".py",
   "mimetype": "text/x-python",
   "name": "python",
   "nbconvert_exporter": "python",
   "pygments_lexer": "ipython3",
   "version": "3.12.4"
  }
 },
 "nbformat": 4,
 "nbformat_minor": 2
}
